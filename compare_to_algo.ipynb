{
  "nbformat": 4,
  "nbformat_minor": 0,
  "metadata": {
    "colab": {
      "name": "compare_to_algo",
      "provenance": [],
      "collapsed_sections": [],
      "include_colab_link": true
    },
    "kernelspec": {
      "display_name": "Python 3",
      "name": "python3"
    }
  },
  "cells": [
    {
      "cell_type": "markdown",
      "metadata": {
        "id": "view-in-github",
        "colab_type": "text"
      },
      "source": [
        "<a href=\"https://colab.research.google.com/github/karthik12mohan/terror_hub_detector/blob/main/compare_to_algo.ipynb\" target=\"_parent\"><img src=\"https://colab.research.google.com/assets/colab-badge.svg\" alt=\"Open In Colab\"/></a>"
      ]
    },
    {
      "cell_type": "markdown",
      "metadata": {
        "id": "5fCEDCU_qrC0"
      },
      "source": [
        "<p><img alt=\"Colaboratory logo\" height=\"45px\" src=\"/img/colab_favicon.ico\" align=\"left\" hspace=\"10px\" vspace=\"0px\"></p>\n",
        "\n",
        "<h1>What is Colaboratory?</h1>\n",
        "\n",
        "Colaboratory, or \"Colab\" for short, allows you to write and execute Python in your browser, with \n",
        "- Zero configuration required\n",
        "- Free access to GPUs\n",
        "- Easy sharing\n",
        "\n",
        "Whether you're a **student**, a **data scientist** or an **AI researcher**, Colab can make your work easier. Watch [Introduction to Colab](https://www.youtube.com/watch?v=inN8seMm7UI) to learn more, or just get started below!"
      ]
    },
    {
      "cell_type": "markdown",
      "metadata": {
        "id": "GJBs_flRovLc"
      },
      "source": [
        "## **Getting started**\n",
        "\n",
        "The document you are reading is not a static web page, but an interactive environment called a **Colab notebook** that lets you write and execute code.\n",
        "\n",
        "For example, here is a **code cell** with a short Python script that computes a value, stores it in a variable, and prints the result:"
      ]
    },
    {
      "cell_type": "code",
      "metadata": {
        "colab": {
          "base_uri": "https://localhost:8080/",
          "height": 34
        },
        "id": "gJr_9dXGpJ05",
        "outputId": "9f556d03-ec67-4950-a485-cfdba9ddd14d"
      },
      "source": [
        "seconds_in_a_day = 24 * 60 * 60\n",
        "seconds_in_a_day"
      ],
      "execution_count": null,
      "outputs": [
        {
          "data": {
            "text/plain": [
              "86400"
            ]
          },
          "execution_count": 0,
          "metadata": {
            "tags": []
          },
          "output_type": "execute_result"
        }
      ]
    },
    {
      "cell_type": "markdown",
      "metadata": {
        "id": "2fhs6GZ4qFMx"
      },
      "source": [
        "To execute the code in the above cell, select it with a click and then either press the play button to the left of the code, or use the keyboard shortcut \"Command/Ctrl+Enter\". To edit the code, just click the cell and start editing.\n",
        "\n",
        "Variables that you define in one cell can later be used in other cells:"
      ]
    },
    {
      "cell_type": "code",
      "metadata": {
        "colab": {
          "base_uri": "https://localhost:8080/",
          "height": 34
        },
        "id": "-gE-Ez1qtyIA",
        "outputId": "94cb2224-0edf-457b-90b5-0ac3488d8a97"
      },
      "source": [
        "seconds_in_a_week = 7 * seconds_in_a_day\n",
        "seconds_in_a_week"
      ],
      "execution_count": null,
      "outputs": [
        {
          "data": {
            "text/plain": [
              "604800"
            ]
          },
          "execution_count": 0,
          "metadata": {
            "tags": []
          },
          "output_type": "execute_result"
        }
      ]
    },
    {
      "cell_type": "markdown",
      "metadata": {
        "id": "lSrWNr3MuFUS"
      },
      "source": [
        "Colab notebooks allow you to combine **executable code** and **rich text** in a single document, along with **images**, **HTML**, **LaTeX** and more. When you create your own Colab notebooks, they are stored in your Google Drive account. You can easily share your Colab notebooks with co-workers or friends, allowing them to comment on your notebooks or even edit them. To learn more, see [Overview of Colab](/notebooks/basic_features_overview.ipynb). To create a new Colab notebook you can use the File menu above, or use the following link: [create a new Colab notebook](http://colab.research.google.com#create=true).\n",
        "\n",
        "Colab notebooks are Jupyter notebooks that are hosted by Colab. To learn more about the Jupyter project, see [jupyter.org](https://www.jupyter.org)."
      ]
    },
    {
      "cell_type": "markdown",
      "metadata": {
        "id": "UdRyKR44dcNI"
      },
      "source": [
        "## Data science\n",
        "\n",
        "With Colab you can harness the full power of popular Python libraries to analyze and visualize data. The code cell below uses **numpy** to generate some random data, and uses **matplotlib** to visualize it. To edit the code, just click the cell and start editing."
      ]
    },
    {
      "cell_type": "code",
      "metadata": {
        "colab": {
          "base_uri": "https://localhost:8080/",
          "height": 281
        },
        "id": "C4HZx7Gndbrh",
        "outputId": "46abc637-6abd-41b2-9bba-80a7ae992e06"
      },
      "source": [
        "import numpy as np\n",
        "from matplotlib import pyplot as plt\n",
        "\n",
        "ys = 200 + np.random.randn(100)\n",
        "x = [x for x in range(len(ys))]\n",
        "\n",
        "plt.plot(x, ys, '-')\n",
        "plt.fill_between(x, ys, 195, where=(ys > 195), facecolor='g', alpha=0.6)\n",
        "\n",
        "plt.title(\"Sample Visualization\")\n",
        "plt.show()"
      ],
      "execution_count": null,
      "outputs": [
        {
          "data": {
            "image/png": "[encoded data removed]",
            "text/plain": [
              "<Figure size 432x288 with 1 Axes>"
            ]
          },
          "metadata": {
            "tags": []
          },
          "output_type": "display_data"
        }
      ]
    },
    {
      "cell_type": "markdown",
      "metadata": {
        "id": "4_kCnsPUqS6o"
      },
      "source": [
        "You can import your own data into Colab notebooks from your Google Drive account, including from spreadsheets, as well as from Github and many other sources. To learn more about importing data, and how Colab can be used for data science, see the links below under [Working with Data](#working-with-data)."
      ]
    },
    {
      "cell_type": "markdown",
      "metadata": {
        "id": "OwuxHmxllTwN"
      },
      "source": [
        "## Machine learning\n",
        "\n",
        "With Colab you can import an image dataset, train an image classifier on it, and evaluate the model, all in just [a few lines of code](https://colab.research.google.com/github/tensorflow/docs/blob/master/site/en/tutorials/quickstart/beginner.ipynb). Colab notebooks execute code on Google's cloud servers, meaning you can leverage the power of Google hardware, including [GPUs and TPUs](#using-accelerated-hardware), regardless of the power of your machine. All you need is a browser."
      ]
    },
    {
      "cell_type": "markdown",
      "metadata": {
        "id": "ufxBm1yRnruN"
      },
      "source": [
        "Colab is used extensively in the machine learning community with applications including:\n",
        "- Getting started with TensorFlow\n",
        "- Developing and training neural networks\n",
        "- Experimenting with TPUs\n",
        "- Disseminating AI research\n",
        "- Creating tutorials\n",
        "\n",
        "To see sample Colab notebooks that demonstrate machine learning applications, see the [machine learning examples](#machine-learning-examples) below."
      ]
    },
    {
      "cell_type": "markdown",
      "metadata": {
        "id": "-Rh3-Vt9Nev9"
      },
      "source": [
        "## More Resources\n",
        "\n",
        "### Working with Notebooks in Colab\n",
        "- [Overview of Colaboratory](/notebooks/basic_features_overview.ipynb)\n",
        "- [Guide to Markdown](/notebooks/markdown_guide.ipynb)\n",
        "- [Importing libraries and installing dependencies](/notebooks/snippets/importing_libraries.ipynb)\n",
        "- [Saving and loading notebooks in GitHub](https://colab.research.google.com/github/googlecolab/colabtools/blob/master/notebooks/colab-github-demo.ipynb)\n",
        "- [Interactive forms](/notebooks/forms.ipynb)\n",
        "- [Interactive widgets](/notebooks/widgets.ipynb)\n",
        "- <img src=\"/img/new.png\" height=\"20px\" align=\"left\" hspace=\"4px\" alt=\"New\"></img>\n",
        " [TensorFlow 2 in Colab](/notebooks/tensorflow_version.ipynb)\n",
        "\n",
        "<a name=\"working-with-data\"></a>\n",
        "### Working with Data\n",
        "- [Loading data: Drive, Sheets, and Google Cloud Storage](/notebooks/io.ipynb) \n",
        "- [Charts: visualizing data](/notebooks/charts.ipynb)\n",
        "- [Getting started with BigQuery](/notebooks/bigquery.ipynb)\n",
        "\n",
        "### Machine Learning Crash Course\n",
        "These are a few of the notebooks from Google's online Machine Learning course. See the [full course website](https://developers.google.com/machine-learning/crash-course/) for more.\n",
        "- [Intro to Pandas](/notebooks/mlcc/intro_to_pandas.ipynb)\n",
        "- [Tensorflow concepts](/notebooks/mlcc/tensorflow_programming_concepts.ipynb)\n",
        "\n",
        "<a name=\"using-accelerated-hardware\"></a>\n",
        "### Using Accelerated Hardware\n",
        "- [TensorFlow with GPUs](/notebooks/gpu.ipynb)\n",
        "- [TensorFlow with TPUs](/notebooks/tpu.ipynb)"
      ]
    },
    {
      "cell_type": "markdown",
      "metadata": {
        "id": "P-H6Lw1vyNNd"
      },
      "source": [
        "<a name=\"machine-learning-examples\"></a>\n",
        "\n",
        "## Machine Learning Examples\n",
        "\n",
        "To see end-to-end examples of the interactive machine learning analyses that Colaboratory makes possible, check out these  tutorials using models from [TensorFlow Hub](https://tfhub.dev).\n",
        "\n",
        "A few featured examples:\n",
        "\n",
        "- [Retraining an Image Classifier](https://tensorflow.org/hub/tutorials/tf2_image_retraining): Build a Keras model on top of a pre-trained image classifier to distinguish flowers.\n",
        "- [Text Classification](https://tensorflow.org/hub/tutorials/tf2_text_classification): Classify IMDB movie reviews as either *positive* or *negative*.\n",
        "- [Style Transfer](https://tensorflow.org/hub/tutorials/tf2_arbitrary_image_stylization): Use deep learning to transfer style between images.\n",
        "- [Multilingual Universal Sentence Encoder Q&A](https://tensorflow.org/hub/tutorials/retrieval_with_tf_hub_universal_encoder_qa): Use a machine learning model to answer questions from the SQuAD dataset.\n",
        "- [Video Interpolation](https://tensorflow.org/hub/tutorials/tweening_conv3d): Predict what happened in a video between the first and the last frame.\n"
      ]
    },
    {
      "cell_type": "code",
      "metadata": {
        "id": "YtqtRU-fGiDB",
        "colab": {
          "base_uri": "https://localhost:8080/"
        },
        "outputId": "428c0f97-7d14-4c62-94a4-b757f684fbd2"
      },
      "source": [
        "!apt-get install -q libgeos-3.5.0\n",
        "!apt-get install -q libgeos-dev\n",
        "!pip install -q https://github.com/matplotlib/basemap/archive/master.zip\n",
        "!pip install -q pyproj==1.9.6"
      ],
      "execution_count": null,
      "outputs": [
        {
          "output_type": "stream",
          "name": "stdout",
          "text": [
            "Reading package lists...\n",
            "Building dependency tree...\n",
            "Reading state information...\n",
            "E: Unable to locate package libgeos-3.5.0\n",
            "E: Couldn't find any package by glob 'libgeos-3.5.0'\n",
            "E: Couldn't find any package by regex 'libgeos-3.5.0'\n",
            "Reading package lists...\n",
            "Building dependency tree...\n",
            "Reading state information...\n",
            "libgeos-dev is already the newest version (3.6.2-1build2).\n",
            "libgeos-dev set to manually installed.\n",
            "0 upgraded, 0 newly installed, 0 to remove and 37 not upgraded.\n",
            "\u001b[K     | 133.1 MB 81.4 MB/s\n",
            "\u001b[K     |████████████████████████████████| 6.3 MB 5.1 MB/s \n",
            "\u001b[K     |████████████████████████████████| 219 kB 68.5 MB/s \n",
            "\u001b[?25h  Building wheel for basemap (setup.py) ... \u001b[?25l\u001b[?25hdone\n",
            "  Building wheel for pyshp (setup.py) ... \u001b[?25l\u001b[?25hdone\n",
            "\u001b[K     |████████████████████████████████| 2.8 MB 5.1 MB/s \n",
            "\u001b[?25h  Building wheel for pyproj (setup.py) ... \u001b[?25l\u001b[?25hdone\n"
          ]
        }
      ]
    },
    {
      "cell_type": "code",
      "metadata": {
        "id": "Z90iBmTdGk-y"
      },
      "source": [
        "import pandas as pd #creation of dataframe from data set\n",
        "import numpy as np\n",
        "import networkx as nx #Network related tool in the python\n",
        "import matplotlib.pyplot as plt #ploting and saving the image\n",
        "from mpl_toolkits.basemap import Basemap as Basemap\n",
        "from matplotlib.pyplot import figure\n",
        "import itertools"
      ],
      "execution_count": null,
      "outputs": []
    },
    {
      "cell_type": "code",
      "metadata": {
        "id": "gep_2rXfGtx3",
        "colab": {
          "base_uri": "https://localhost:8080/"
        },
        "outputId": "ba29ea04-5de8-4bb4-a66f-95825bb0c3dd"
      },
      "source": [
        "#Mount the drive to colab\n",
        "from google.colab import drive\n",
        "drive.mount('/content/drive')"
      ],
      "execution_count": null,
      "outputs": [
        {
          "output_type": "stream",
          "name": "stdout",
          "text": [
            "Mounted at /content/drive\n"
          ]
        }
      ]
    },
    {
      "cell_type": "code",
      "metadata": {
        "id": "jjalZwAOGxg5"
      },
      "source": [
        "# Data set from https://gtd.terrorismdata.com/app/uploads/_mediavault/2021/02/globalterrorismdb_0221dist.xlsx\n",
        "# Reading the data set and strore it in the variable called df \n",
        "df = pd.read_excel (r'/content/drive/MyDrive/capston/Copy of globalterrorismdb_0919dist.xlsx')\n",
        "#df = pd.read_excel (r'/content/globalterrorismdb_0919dist.xlsx')"
      ],
      "execution_count": null,
      "outputs": []
    },
    {
      "cell_type": "code",
      "metadata": {
        "id": "4RLJ4Nk2Hm8r",
        "colab": {
          "base_uri": "https://localhost:8080/"
        },
        "outputId": "a64a3d66-1600-4176-9e54-ab5b692bcfce"
      },
      "source": [
        "l=len(df)\n",
        "df2=df\n",
        "df=df.loc[df[\"doubtterr\"]!=1]\n",
        "print(l-len(df),\"rows are removed\")\n",
        "print(\"Current rown is data set is\",len(df))"
      ],
      "execution_count": null,
      "outputs": [
        {
          "output_type": "stream",
          "name": "stdout",
          "text": [
            "31060 rows are removed\n",
            "Current rown is data set is 160404\n"
          ]
        }
      ]
    },
    {
      "cell_type": "code",
      "metadata": {
        "id": "gGFa6BoIH8t6"
      },
      "source": [
        "#convert names of target and source to unique id\n",
        "name={}\n",
        "i_name={}\n",
        "for j,i in enumerate(set(df[\"country_txt\"]).union(set(df[\"gname\"]))):\n",
        "  name[i]=j\n",
        "  i_name[j]=i"
      ],
      "execution_count": null,
      "outputs": []
    },
    {
      "cell_type": "code",
      "metadata": {
        "id": "9bOpBwa_IUhn"
      },
      "source": [
        "import numpy as np\n",
        "dct={}\n",
        "for i in df.index:\n",
        "  if df['iyear'][i]>=1970 and df['iyear'][i]<=2020:\n",
        "    tp=(df[\"gname\"][i],df[\"country_txt\"][i])\n",
        "    kill=df['nkill'][i]\n",
        "    wnd=df['nwound'][i]\n",
        "    prop=df['propextent'][i]\n",
        "    #target=df[\"country_txt\"][i]\n",
        "    #source=df[\"gname\"][i]\n",
        "    if tp not in dct:\n",
        "      dct[tp]=[1,1,1]\n",
        "    if  not np.isnan(kill):\n",
        "        dct[tp][0]+=3*kill\n",
        "    if  not np.isnan(wnd):\n",
        "        dct[tp][1]+=0.5*wnd\n",
        "    if  not np.isnan(prop):\n",
        "        dct[tp][2]+=abs(4-prop)\n",
        "  "
      ],
      "execution_count": null,
      "outputs": []
    },
    {
      "cell_type": "code",
      "metadata": {
        "id": "IZsB1-QXIfsZ"
      },
      "source": [
        "import networkx as nx\n",
        "G = nx.DiGraph()\n",
        "for i in dct:\n",
        "  G.add_edge(name[i[0]], name[i[1]], weight=int(sum(dct[i])))\n",
        "  if int(sum(dct[i]))<0:\n",
        "    print(dct[i])\n",
        "\n"
      ],
      "execution_count": null,
      "outputs": []
    },
    {
      "cell_type": "code",
      "metadata": {
        "id": "_3PCRKGGI5aA"
      },
      "source": [
        "G1=G.copy()"
      ],
      "execution_count": null,
      "outputs": []
    },
    {
      "cell_type": "code",
      "metadata": {
        "id": "TV5T2ABXIy3Y"
      },
      "source": [
        "#!/usr/bin/env python\n",
        "# encoding: utf-8\n",
        "\n",
        "from networkx.readwrite import json_graph\n",
        "from scipy.stats import percentileofscore\n",
        "from traceback import format_exception\n",
        "import cProfile\n",
        "import json\n",
        "import networkx as nx\n",
        "import numpy as np\n",
        "import pandas as pd\n",
        "import pstats\n",
        "import random\n",
        "import sys\n",
        "import matplotlib.pyplot as plt\n",
        "DEBUG = False # True\n",
        "\n",
        "\n",
        "######################################################################\n",
        "## disparity filter for extracting the multiscale backbone of\n",
        "## complex weighted networks\n",
        "\n",
        "def get_nes (graph, label):\n",
        "    \"\"\"\n",
        "    find the neighborhood attention set (NES) for the given label\n",
        "    \"\"\"\n",
        "    for node_id in graph.nodes():\n",
        "        node = graph.node[node_id]\n",
        "\n",
        "        if node[\"label\"].lower() == label:\n",
        "            return set([node_id]).union(set([id for id in graph.neighbors(node_id)]))\n",
        "\n",
        "\n",
        "def disparity_integral (x, k):\n",
        "    \"\"\"\n",
        "    calculate the definite integral for the PDF in the disparity filter\n",
        "    \"\"\"\n",
        "    assert x != 1.0, \"x == 1.0\"\n",
        "    assert k != 1.0, \"k == 1.0\"\n",
        "    return ((1.0 - x)**k) / ((k - 1.0) * (x - 1.0))\n",
        "\n",
        "\n",
        "def get_disparity_significance (norm_weight, degree):\n",
        "    \"\"\"\n",
        "    calculate the significance (alpha) for the disparity filter\n",
        "    \"\"\"\n",
        "    return 1.0 - ((degree - 1.0) * (disparity_integral(norm_weight, degree) - disparity_integral(0.0, degree)))\n",
        "\n",
        "\n",
        "def disparity_filter (graph):\n",
        "    \"\"\"\n",
        "    implements a disparity filter, based on multiscale backbone networks\n",
        "    https://arxiv.org/pdf/0904.2389.pdf\n",
        "    \"\"\"\n",
        "    alpha_measures = []\n",
        "    \n",
        "    for node_id in graph.nodes():\n",
        "        node = graph.nodes[node_id]\n",
        "        degree = graph.degree(node_id)\n",
        "        strength = 0.0\n",
        "        \n",
        "\n",
        "        for id0, id1 in graph.edges(nbunch=[node_id]):\n",
        "            edge = graph[id0][id1]\n",
        "            strength += edge[\"weight\"]\n",
        "\n",
        "        node[\"strength\"] = strength\n",
        "\n",
        "        for id0, id1 in graph.edges(nbunch=[node_id]):\n",
        "            edge = graph[id0][id1]\n",
        "\n",
        "            norm_weight = edge[\"weight\"] / strength\n",
        "            edge[\"norm_weight\"] = norm_weight\n",
        "\n",
        "            if degree > 1:\n",
        "                try:\n",
        "                    if norm_weight == 1.0:\n",
        "                        norm_weight -= 0.0001\n",
        "\n",
        "                    alpha = get_disparity_significance(norm_weight, degree)\n",
        "                except AssertionError:\n",
        "                    report_error(\"disparity {}\".format(repr(node)), fatal=True)\n",
        "\n",
        "                edge[\"alpha\"] = alpha\n",
        "                alpha_measures.append(alpha)\n",
        "            else:\n",
        "                edge[\"alpha\"] = 0.0\n",
        "\n",
        "    for id0, id1 in graph.edges():\n",
        "        edge = graph[id0][id1]\n",
        "        edge[\"alpha_ptile\"] = percentileofscore(alpha_measures, edge[\"alpha\"]) / 100.0\n",
        "\n",
        "    return alpha_measures\n",
        "\n",
        "\n",
        "######################################################################\n",
        "## related metrics\n",
        "\n",
        "def calc_centrality (graph, min_degree=1):\n",
        "    \"\"\"\n",
        "    to conserve compute costs, ignore centrality for nodes below `min_degree`\n",
        "    \"\"\"\n",
        "    sub_graph = graph.copy()\n",
        "    sub_graph.remove_nodes_from([ n for n, d in list(graph.degree) if d < min_degree ])\n",
        "\n",
        "    centrality = nx.betweenness_centrality(sub_graph, weight=\"weight\")\n",
        "    #centrality = nx.closeness_centrality(sub_graph, distance=\"distance\")\n",
        "\n",
        "    return centrality\n",
        "\n",
        "\n",
        "def calc_quantiles (metrics, num):\n",
        "    \"\"\"\n",
        "    calculate `num` quantiles for the given list\n",
        "    \"\"\"\n",
        "    global DEBUG\n",
        "\n",
        "    bins = np.linspace(0, 1, num=num, endpoint=True)\n",
        "    s = pd.Series(metrics)\n",
        "    q = s.quantile(bins, interpolation=\"nearest\")\n",
        "\n",
        "    try:\n",
        "        dig = np.digitize(metrics, q) - 1\n",
        "    except ValueError as e:\n",
        "        print(\"ValueError:\", str(e), metrics, s, q, bins)\n",
        "        sys.exit(-1)\n",
        "\n",
        "    quantiles = []\n",
        "\n",
        "    for idx, q_hi in q.iteritems():\n",
        "        quantiles.append(q_hi)\n",
        "\n",
        "        if DEBUG:\n",
        "            print(idx, q_hi)\n",
        "\n",
        "    return quantiles\n",
        "\n",
        "\n",
        "def calc_alpha_ptile (alpha_measures, show=True):\n",
        "    \"\"\"\n",
        "    calculate the quantiles used to define a threshold alpha cutoff\n",
        "    \"\"\"\n",
        "    quantiles = calc_quantiles(alpha_measures, num=10)\n",
        "    num_quant = len(quantiles)\n",
        "\n",
        "    if show:\n",
        "        print(\"\\tptile\\talpha\")\n",
        "\n",
        "        for i in range(num_quant):\n",
        "            percentile = i / float(num_quant)\n",
        "            print(\"\\t{:0.2f}\\t{:0.4f}\".format(percentile, quantiles[i]))\n",
        "\n",
        "    return quantiles, num_quant\n",
        "\n",
        "\n",
        "def cut_graph (graph, min_alpha_ptile=0.5, min_degree=2):\n",
        "    \"\"\"\n",
        "    apply the disparity filter to cut the given graph\n",
        "    \"\"\"\n",
        "    filtered_set = set([])\n",
        "\n",
        "    for id0, id1 in graph.edges():\n",
        "        edge = graph[id0][id1]\n",
        "\n",
        "        if edge[\"alpha_ptile\"] < min_alpha_ptile:\n",
        "            filtered_set.add((id0, id1))\n",
        "\n",
        "    for id0, id1 in filtered_set:\n",
        "        graph.remove_edge(id0, id1)\n",
        "\n",
        "    filtered_set = set([])\n",
        "\n",
        "    for node_id in graph.nodes():\n",
        "        node = graph.nodes[node_id]\n",
        "\n",
        "        if graph.degree(node_id) < min_degree:\n",
        "            filtered_set.add(node_id)\n",
        "\n",
        "    for node_id in filtered_set:\n",
        "        graph.remove_node(node_id)\n",
        "\n",
        "\n",
        "\n",
        "######################################################################\n",
        "## profiling utilities\n",
        "\n",
        "def start_profiling ():\n",
        "    \"\"\"start profiling\"\"\"\n",
        "    pr = cProfile.Profile()\n",
        "    pr.enable()\n",
        "\n",
        "    return pr\n",
        "\n",
        "\n",
        "def stop_profiling (pr):\n",
        "    \"\"\"stop profiling and report\"\"\"\n",
        "    pr.disable()\n",
        "\n",
        "    s = io.StringIO()\n",
        "    sortby = \"cumulative\"\n",
        "    ps = pstats.Stats(pr, stream=s).sort_stats(sortby)\n",
        "\n",
        "    ps.print_stats()\n",
        "    print(s.getvalue())\n",
        "\n",
        "\n",
        "def report_error (cause_string, logger=None, fatal=False):\n",
        "    \"\"\"\n",
        "    TODO: errors should go to logger, and not be fatal\n",
        "    \"\"\"\n",
        "    etype, value, tb = sys.exc_info()\n",
        "    error_str = \"{} {}\".format(cause_string, str(format_exception(etype, value, tb, 3)))\n",
        "\n",
        "    if logger:\n",
        "        logger.info(error_str)\n",
        "    else:\n",
        "        print(error_str)\n",
        "\n",
        "    if fatal:\n",
        "        sys.exit(-1)\n",
        "\n",
        "\n",
        "######################################################################\n",
        "## graph serialization\n",
        "\n",
        "def load_graph (graph_path):\n",
        "    \"\"\"\n",
        "    load a graph from JSON\n",
        "    \"\"\"\n",
        "    with open(graph_path) as f:\n",
        "        data = json.load(f)\n",
        "        graph = json_graph.node_link_graph(data, directed=True)\n",
        "        return graph\n",
        "\n",
        "\n",
        "def save_graph (graph, graph_path):\n",
        "    \"\"\"\n",
        "    save a graph as JSON\n",
        "    \"\"\"\n",
        "    with open(graph_path, \"w\") as f:\n",
        "        data = json_graph.node_link_data(graph)\n",
        "        json.dump(data, f)\n",
        "\n",
        "\n",
        "######################################################################\n",
        "## testing\n",
        "\n",
        "\n",
        "\n",
        "\n",
        "def describe_graph (graph, min_degree=1, show_centrality=False):\n",
        "    \"\"\"\n",
        "    describe a graph\n",
        "    \"\"\"\n",
        "    print(\"\\ngraph: {} nodes {} edges\\n\".format(len(graph.nodes()), len(graph.edges())))\n",
        "\n",
        "    if show_centrality:\n",
        "        print(calc_centrality(graph, min_degree))\n",
        "\n"
      ],
      "execution_count": null,
      "outputs": []
    },
    {
      "cell_type": "code",
      "metadata": {
        "id": "gN-exk1DJmcD"
      },
      "source": [
        "def convertGraph(G):\n",
        "  graph=nx.Graph()\n",
        "  for i in G.nodes:\n",
        "    pred=[j for j in G.predecessors(i)]\n",
        "    if len(pred):\n",
        "      for j in list(itertools.combinations(pred,2)):\n",
        "        graph.add_edge(j[0],j[1],weight=G[j[0]][i]['weight']+G[j[1]][i]['weight'])\n",
        "    del pred\n",
        "  return graph"
      ],
      "execution_count": null,
      "outputs": []
    },
    {
      "cell_type": "code",
      "metadata": {
        "id": "tLtB4-G_KDi7",
        "colab": {
          "base_uri": "https://localhost:8080/",
          "height": 52
        },
        "outputId": "ad5c4b06-9a14-45f6-d4cb-13d2fd8207f0"
      },
      "source": [
        "import itertools\n",
        "from heapq import *\n",
        "\n",
        "class PQ(object):\n",
        "    def __init__(self):\n",
        "        self.pq = []                         # list of entries arranged in a heap\n",
        "        self.entry_finder = {}               # mapping of tasks to entries\n",
        "        self.REMOVED = '<removed-task>'      # placeholder for a removed task\n",
        "        self.counter = itertools.count()     # unique sequence count\n",
        "\n",
        "    def add_task(self, task, priority=0):\n",
        "        'Add a new task or update the priority of an existing task'\n",
        "        if task in self.entry_finder:\n",
        "            self.remove_task(task)\n",
        "        count = next(self.counter)\n",
        "        entry = [priority, count, task]\n",
        "        self.entry_finder[task] = entry\n",
        "        heappush(self.pq, entry)\n",
        "\n",
        "    def remove_task(self, task):\n",
        "        'Mark an existing task as REMOVED.  Raise KeyError if not found.'\n",
        "        entry = self.entry_finder.pop(task)\n",
        "        entry[-1] = self.REMOVED\n",
        "\n",
        "    def pop_item(self):\n",
        "        'Remove and return the lowest priority task. Raise KeyError if empty.'\n",
        "        while self.pq:\n",
        "            priority, count, task = heappop(self.pq)\n",
        "            if task is not self.REMOVED:\n",
        "                del self.entry_finder[task]\n",
        "                return task, priority\n",
        "        raise KeyError('pop from an empty priority queue')\n",
        "\n",
        "    def __str__(self):\n",
        "        return str([entry for entry in self.pq if entry[2] != self.REMOVED])\n",
        "\n",
        "'''\n",
        "pq = PriorityQueue()\n",
        "pq.add_task(pq.REMOVED, -100)\n",
        "pq.add_task(1, -75)\n",
        "pq.add_task(2, -50)\n",
        "pq.add_task(pq.REMOVED, -25)\n",
        "if __name__ == '_main__':\n",
        "    console = []\n",
        "'''"
      ],
      "execution_count": null,
      "outputs": [
        {
          "output_type": "execute_result",
          "data": {
            "application/vnd.google.colaboratory.intrinsic+json": {
              "type": "string"
            },
            "text/plain": [
              "\"\\npq = PriorityQueue()\\npq.add_task(pq.REMOVED, -100)\\npq.add_task(1, -75)\\npq.add_task(2, -50)\\npq.add_task(pq.REMOVED, -25)\\nif __name__ == '_main__':\\n    console = []\\n\""
            ]
          },
          "metadata": {},
          "execution_count": 13
        }
      ]
    },
    {
      "cell_type": "code",
      "metadata": {
        "id": "0QtkCrfVKLCI"
      },
      "source": [
        "import networkx as nx\n",
        "\n",
        "def degreeDiscountIC(G, k, p=.01):\n",
        "    ''' Finds initial set of nodes to propagate in Independent Cascade model (with priority queue)\n",
        "    Input: G -- networkx graph object\n",
        "    k -- number of nodes needed\n",
        "    p -- propagation probability\n",
        "    Output:\n",
        "    S -- chosen k nodes\n",
        "    '''\n",
        "    S = []\n",
        "    dd = PQ() # degree discount\n",
        "    t = dict() # number of adjacent vertices that are in S\n",
        "    d = dict() # degree of each vertex\n",
        "\n",
        "    # initialize degree discount\n",
        "    for u in G.nodes():\n",
        "        d[u] = sum([G[u][v]['weight'] for v in G[u]]) # each edge adds degree 1\n",
        "        # d[u] = len(G[u]) # each neighbor adds degree 1\n",
        "        dd.add_task(u, -d[u]) # add degree of each node\n",
        "        t[u] = 0\n",
        "\n",
        "    # add vertices to S greedily\n",
        "    for i in range(k):\n",
        "        u, priority = dd.pop_item() # extract node with maximal degree discount\n",
        "        S.append(u)\n",
        "        \n",
        "        for v in G[u]:\n",
        "            if v not in S:\n",
        "                t[v] += G[u][v]['weight'] # increase number of selected neighbors\n",
        "                #priority=d[v] - t[v]\n",
        "                priority = d[v] - 2*t[v] - (d[v] - t[v])*t[v]*p # discount of degree\n",
        "                #print(\"Priority\",v,d[v],priority)\n",
        "                dd.add_task(v, -priority)\n",
        "    return S\n",
        "\n",
        "def degreeDiscountIC2(G, k, p=.01):\n",
        "     d = dict()\n",
        "     dd = dict() # degree discount\n",
        "     t = dict() # number of selected neighbors\n",
        "     S = [] # selected set of nodes\n",
        "     for u in G:\n",
        "         d[u] = sum([G[u][v]['weight'] for v in G[u]]) # each edge adds degree 1\n",
        "         # d[u] = len(G[u]) # each neighbor adds degree 1\n",
        "         dd[u] = d[u]\n",
        "         t[u] = 0\n",
        "     for i in range(k):\n",
        "         u, ddv = max(dd.items(), key=lambda v: v[1])\n",
        "         dd.pop(u)\n",
        "         S.append(u)\n",
        "         for v in G[u]:\n",
        "             if v not in S:\n",
        "                 t[v] += G[u][v]['weight'] # increase number of selected neighbors\n",
        "                 dd[v] = d[v] - 2*t[v] - (d[v] - t[v])*t[v]*p\n",
        "     return S\n",
        "    \n",
        "def degreeDiscountStar(G,k,p=.01):\n",
        "   \n",
        "     S = []\n",
        "     scores = PQ()\n",
        "     d = dict()\n",
        "     t = dict()\n",
        "     for u in G:\n",
        "         d[u] = sum([G[u][v]['weight'] for v in G[u]])\n",
        "         t[u] = 0\n",
        "         score = -((1-p)**t[u])*(1+(d[u]-t[u])*p)\n",
        "         scores.add_task(u, )\n",
        "     for iteration in range(k):\n",
        "         u, priority = scores.pop_item()\n",
        "         #print(iteration, -priority)\n",
        "         S.append(u)\n",
        "         for v in G[u]:\n",
        "             if v not in S:\n",
        "                 t[v] += G[u][v]['weight']\n",
        "                 score = -((1-p)**t[u])*(1+(d[u]-t[u])*p)\n",
        "                 scores.add_task(v, score)\n"
      ],
      "execution_count": null,
      "outputs": []
    },
    {
      "cell_type": "code",
      "metadata": {
        "id": "BVODgTqpKTNj",
        "colab": {
          "base_uri": "https://localhost:8080/"
        },
        "outputId": "95a8d79e-92cb-4b52-a0ee-315d521a29a6"
      },
      "source": [
        "import time\n",
        "start = time.time()\n",
        "main()\n",
        "graph=convertGraph(G)\n",
        "z1=degreeDiscountIC(graph, 10, 0.1)\n",
        "print(\"Time to findout influential node with disparity filter algorithm\",time.time() - start,\" sec\")\n",
        "\n",
        "start = time.time()\n",
        "#main()\n",
        "graph=convertGraph(G1)\n",
        "z2=degreeDiscountIC(graph, 10, 0.1)\n",
        "print(\"Time to findout influential node without disparity filter algorithm\",time.time() - start,\" sec\")\n",
        "print(\"Top 10 terror groups are:\\n\",'\\n'.join([(i_name[i[0]]+\",\"+i_name[i[1]]) for i in list(zip(z1,z2))]))"
      ],
      "execution_count": null,
      "outputs": [
        {
          "output_type": "stream",
          "name": "stdout",
          "text": [
            "0.8242099285125732\n",
            "1.857090950012207\n",
            "Top 10 terror groups are:\n",
            " Unknown,Unknown\n",
            "Taliban,New Armenian Resistance\n",
            "Al-Nusrah Front,Mozambique National Resistance Movement (MNR)\n",
            "Muslim Rebels,Japanese Red Army (JRA)\n",
            "Maoists,Congolese Armed Patriotic Group\n",
            "Paramilitaries,Salafi Extremists\n",
            "Muslim Separatists,Democratic Progressive Party (Malawi)\n",
            "Takfir wal-Hijra (Excommunication and Exodus),22 May 1948\n",
            "Tribesmen,Juwa Party\n",
            "Sinai Province of the Islamic State,Maori\n"
          ]
        }
      ]
    },
    {
      "cell_type": "code",
      "metadata": {
        "colab": {
          "base_uri": "https://localhost:8080/"
        },
        "id": "W-uhmqchJRBN",
        "outputId": "99ec4587-e863-42e2-d967-32cd00520a16"
      },
      "source": [
        "year=[i for i in range(1970,2020,10)]+[2018]\n",
        "print(year)"
      ],
      "execution_count": null,
      "outputs": [
        {
          "output_type": "stream",
          "name": "stdout",
          "text": [
            "[1970, 1980, 1990, 2000, 2010, 2018]\n"
          ]
        }
      ]
    },
    {
      "cell_type": "code",
      "metadata": {
        "id": "eF727HOwK2mw"
      },
      "source": [
        "def norm_weight(G):\n",
        "  s=sum([i[2] for i in G.edges().data(\"weight\")])\n",
        "  for i in G.edges():\n",
        "    G[i[0]][i[1]][\"weight\"]/=s"
      ],
      "execution_count": null,
      "outputs": []
    },
    {
      "cell_type": "code",
      "metadata": {
        "id": "4AuIBsilJbXo"
      },
      "source": [
        "def buildGraph(l,r):\n",
        "  dct={}\n",
        "  for i in df.index:\n",
        "    if df['iyear'][i]>=l and df['iyear'][i]<=r:\n",
        "      tp=(df[\"gname\"][i],df[\"country_txt\"][i])\n",
        "      kill=df['nkill'][i]\n",
        "      wnd=df['nwound'][i]\n",
        "      prop=df['propextent'][i]\n",
        "      #target=df[\"country_txt\"][i]\n",
        "      #source=df[\"gname\"][i]\n",
        "      if tp not in dct:\n",
        "        dct[tp]=[1,1,1]\n",
        "      if  not np.isnan(kill):\n",
        "          dct[tp][0]+=3*kill\n",
        "      if  not np.isnan(wnd):\n",
        "          dct[tp][1]+=0.5*wnd\n",
        "      if  not np.isnan(prop):\n",
        "          dct[tp][2]+=abs(4-prop)\n",
        "  G = nx.DiGraph()\n",
        "  for i in dct:\n",
        "    G.add_edge(name[i[0]], name[i[1]], weight=int(sum(dct[i])))\n",
        "  return G"
      ],
      "execution_count": null,
      "outputs": []
    },
    {
      "cell_type": "code",
      "metadata": {
        "id": "RaGvpA4OJwXq"
      },
      "source": [
        "import time\n",
        "a=[]\n",
        "b=[]\n",
        "min_alpha_ptile=0.5\n",
        "min_degree=2\n",
        "for i in range(1,6):\n",
        "  start = time.time()\n",
        "  graph=buildGraph(year[0],year[i])\n",
        "  graph1=convertGraph(graph)\n",
        "  norm_weight(graph1)\n",
        "  degreeDiscountIC(graph1,10)\n",
        "  a.append(time.time()-start)\n",
        "\n",
        "  start = time.time()\n",
        "  alpha_measures = disparity_filter(graph)\n",
        "  cut_graph(graph, min_alpha_ptile, min_degree)\n",
        "  graph1=convertGraph(graph)\n",
        "  norm_weight(graph1)\n",
        "  degreeDiscountIC(graph1,10)\n",
        "  b.append(time.time()-start)\n"
      ],
      "execution_count": null,
      "outputs": []
    },
    {
      "cell_type": "code",
      "metadata": {
        "colab": {
          "base_uri": "https://localhost:8080/"
        },
        "id": "TxOsV8VzM9Sz",
        "outputId": "b33ea548-d626-4a1f-a4d3-39ad4838ffd9"
      },
      "source": [
        "print(a)\n",
        "print(b)\n",
        "a=[0]+a\n",
        "b=[0]+b"
      ],
      "execution_count": null,
      "outputs": [
        {
          "output_type": "stream",
          "name": "stdout",
          "text": [
            "[3.530834674835205, 5.446031093597412, 7.046684503555298, 9.042263507843018, 13.526386499404907]\n",
            "[0.0755300521850586, 0.22890305519104004, 0.5196099281311035, 0.6161901950836182, 0.8610110282897949]\n"
          ]
        }
      ]
    },
    {
      "cell_type": "code",
      "metadata": {
        "colab": {
          "base_uri": "https://localhost:8080/",
          "height": 297
        },
        "id": "mt9KlAriOU8F",
        "outputId": "90cf2017-7603-4b49-f9c3-65b737583737"
      },
      "source": [
        "from matplotlib import pyplot as plt\n",
        "plt.ylabel(\"time in sec\")\n",
        "plt.xlabel(\"year\")\n",
        "plt.plot(year,a)"
      ],
      "execution_count": null,
      "outputs": [
        {
          "output_type": "execute_result",
          "data": {
            "text/plain": [
              "[<matplotlib.lines.Line2D at 0x7f7538f71c50>]"
            ]
          },
          "metadata": {},
          "execution_count": 26
        },
        {
          "output_type": "display_data",
          "data": {
            "image/png": "[encoded data removed]",
            "text/plain": [
              "<Figure size 432x288 with 1 Axes>"
            ]
          },
          "metadata": {
            "needs_background": "light"
          }
        }
      ]
    },
    {
      "cell_type": "code",
      "metadata": {
        "colab": {
          "base_uri": "https://localhost:8080/",
          "height": 296
        },
        "id": "d9T9dubKPUOy",
        "outputId": "5bafc758-133e-4e0f-fc47-3127580fab2a"
      },
      "source": [
        "from matplotlib import pyplot as plt\n",
        "plt.ylabel(\"time in sec\")\n",
        "plt.xlabel(\"year\")\n",
        "plt.plot(year,b)"
      ],
      "execution_count": null,
      "outputs": [
        {
          "output_type": "execute_result",
          "data": {
            "text/plain": [
              "[<matplotlib.lines.Line2D at 0x7f754d1a3210>]"
            ]
          },
          "metadata": {},
          "execution_count": 27
        },
        {
          "output_type": "display_data",
          "data": {
            "image/png": "[encoded data removed]",
            "text/plain": [
              "<Figure size 432x288 with 1 Axes>"
            ]
          },
          "metadata": {
            "needs_background": "light"
          }
        }
      ]
    },
    {
      "cell_type": "code",
      "metadata": {
        "colab": {
          "base_uri": "https://localhost:8080/",
          "height": 297
        },
        "id": "nCgWOOZNPX02",
        "outputId": "ad9d8685-4149-4746-bb03-0404089470bb"
      },
      "source": [
        "from matplotlib import pyplot as plt\n",
        "plt.ylabel(\"time in sec\")\n",
        "plt.xlabel(\"year\")\n",
        "plt.plot(year,a)\n",
        "plt.plot(year,b)"
      ],
      "execution_count": null,
      "outputs": [
        {
          "output_type": "execute_result",
          "data": {
            "text/plain": [
              "[<matplotlib.lines.Line2D at 0x7f7556c84c90>]"
            ]
          },
          "metadata": {},
          "execution_count": 28
        },
        {
          "output_type": "display_data",
          "data": {
            "image/png": "[encoded data removed]",
            "text/plain": [
              "<Figure size 432x288 with 1 Axes>"
            ]
          },
          "metadata": {
            "needs_background": "light"
          }
        }
      ]
    }
  ]
}